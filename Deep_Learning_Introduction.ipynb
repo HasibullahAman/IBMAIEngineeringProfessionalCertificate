{
  "cells": [
    {
      "cell_type": "markdown",
      "metadata": {
        "id": "view-in-github",
        "colab_type": "text"
      },
      "source": [
        "<a href=\"https://colab.research.google.com/github/HasibullahAman/IBMAIEngineeringProfessionalCertificate/blob/main/Deep_Learning_Introduction.ipynb\" target=\"_parent\"><img src=\"https://colab.research.google.com/assets/colab-badge.svg\" alt=\"Open In Colab\"/></a>"
      ]
    },
    {
      "cell_type": "markdown",
      "metadata": {
        "id": "c9310f12"
      },
      "source": [
        "# Introdaction to Deep Learning"
      ],
      "id": "c9310f12"
    },
    {
      "cell_type": "code",
      "execution_count": null,
      "metadata": {
        "colab": {
          "background_save": true
        },
        "id": "5Qko_Ywr1Iqi"
      },
      "outputs": [],
      "source": [
        "from google.colab import drive\n",
        "drive.mount('/content/drive')"
      ],
      "id": "5Qko_Ywr1Iqi"
    },
    {
      "cell_type": "markdown",
      "metadata": {
        "id": "0552f8a4"
      },
      "source": [
        "- why we use Modul?\n",
        "- what is Fine-tuining\n",
        "- for answer the second question we can say fine-tuning is like TransferLearning\n",
        "------- means we solev one problome and we apply to other\n",
        "------- for examaple recognize between car and truck!\n",
        "- now we can say fine tuning is : a process tath take modul thats alrady trained for given problom"
      ],
      "id": "0552f8a4"
    },
    {
      "cell_type": "markdown",
      "metadata": {
        "id": "bf65363f"
      },
      "source": [
        "## Machine Learning\n",
        "- is practice to using algorithm to anlysis data learn form data and predicet new data."
      ],
      "id": "bf65363f"
    },
    {
      "cell_type": "markdown",
      "metadata": {
        "id": "c783ee03"
      },
      "source": [
        "## DL\n",
        " - Deep learning is sub field of ML that uses algorithm inspird by the structure and function of the brain neural Network.\n",
        " ### Suprvised Learning\n",
        " ### Unsupervised Learning\n",
        " "
      ],
      "id": "c783ee03"
    },
    {
      "cell_type": "markdown",
      "metadata": {
        "id": "f04bde35"
      },
      "source": [
        "## Artificial Neural Networksm"
      ],
      "id": "f04bde35"
    },
    {
      "cell_type": "markdown",
      "metadata": {
        "id": "28a06d8d"
      },
      "source": [
        "-- Artificial Neural Network are deep learning model's that are based on the structure of the brains neural Networks."
      ],
      "id": "28a06d8d"
    },
    {
      "cell_type": "markdown",
      "metadata": {
        "id": "41b77e2e"
      },
      "source": [
        "- based on collection of connected units called Neuron.\n",
        "- each Neuron transimet signal to other\n",
        "- the resivier signal process the signal and downcterm Neuron to other conected.\n",
        "##### Neuron organized in layer:\n",
        "    - Input Layer\n",
        "    - Hidden Layer\n",
        "    - Output Layer"
      ],
      "id": "41b77e2e"
    },
    {
      "cell_type": "markdown",
      "metadata": {
        "id": "f7d1a9da"
      },
      "source": [
        "# Keras Sequential Model\n",
        "\n",
        "- is lainer stack model"
      ],
      "id": "f7d1a9da"
    },
    {
      "cell_type": "code",
      "execution_count": 1,
      "metadata": {
        "colab": {
          "base_uri": "https://localhost:8080/",
          "height": 130
        },
        "id": "ff74a1da",
        "outputId": "a65f96a8-06fc-4d49-c4bd-36007932972f"
      },
      "outputs": [
        {
          "output_type": "error",
          "ename": "SyntaxError",
          "evalue": "ignored",
          "traceback": [
            "\u001b[0;36m  File \u001b[0;32m\"<ipython-input-1-f340918e70c8>\"\u001b[0;36m, line \u001b[0;32m6\u001b[0m\n\u001b[0;31m    Dense(32,input_shape=(10),activation = 'relu')\u001b[0m\n\u001b[0m    ^\u001b[0m\n\u001b[0;31mSyntaxError\u001b[0m\u001b[0;31m:\u001b[0m invalid syntax. Perhaps you forgot a comma?\n"
          ]
        }
      ],
      "source": [
        "from Keras.models import Sequential\n",
        "from keras.layers import Dense, Activation\n",
        "\n",
        "\n",
        "model = Sequential({{\n",
        "    Dense(32,input_shape=(10),activation = 'relu')\n",
        "    Dense(2,activation = 'softmax')\n",
        "}})"
      ],
      "id": "ff74a1da"
    },
    {
      "cell_type": "code",
      "execution_count": null,
      "metadata": {
        "id": "b4157efc"
      },
      "outputs": [],
      "source": [],
      "id": "b4157efc"
    },
    {
      "cell_type": "markdown",
      "source": [
        "# Convolutional Neural Network"
      ],
      "metadata": {
        "id": "7mgQ7cypp8AA"
      },
      "id": "7mgQ7cypp8AA"
    },
    {
      "cell_type": "code",
      "source": [
        "from keras.models import Sequential\n",
        "from keras.layers import Dense, Activation , Conv2D, MaxPooling2D, Flatten\n",
        "\n",
        "\n",
        "\n",
        "model = Sequential()\n",
        "\n",
        "input_shape = (128,128,3)\n",
        "\n",
        "model.add(Conv2D(16,kernel_size=(2,2),strides=(1,1),activation='relu',input_shape = input_shape))\n",
        "model.add(MaxPooling2D(pool_size=(2,2),strides=(1,1)))\n",
        "model.add(Conv2D(32,kernel_size=(2,2),activation='relu'))\n",
        "model.add(MaxPooling2D(pool_size=(2,2)))\n",
        "\n",
        "model.add(Flatten())\n",
        "model.add(Dense(100,activation='relu'))\n",
        "model.add(Dense(5,activation = 'softmax'))\n",
        "\n"
      ],
      "metadata": {
        "id": "eSTjLr8VqHCv"
      },
      "id": "eSTjLr8VqHCv",
      "execution_count": 5,
      "outputs": []
    },
    {
      "cell_type": "code",
      "source": [],
      "metadata": {
        "id": "pRZCwyLtqPOv"
      },
      "id": "pRZCwyLtqPOv",
      "execution_count": null,
      "outputs": []
    }
  ],
  "metadata": {
    "colab": {
      "provenance": [],
      "include_colab_link": true
    },
    "kernelspec": {
      "display_name": "Python 3 (ipykernel)",
      "language": "python",
      "name": "python3"
    },
    "language_info": {
      "codemirror_mode": {
        "name": "ipython",
        "version": 3
      },
      "file_extension": ".py",
      "mimetype": "text/x-python",
      "name": "python",
      "nbconvert_exporter": "python",
      "pygments_lexer": "ipython3",
      "version": "3.9.13"
    }
  },
  "nbformat": 4,
  "nbformat_minor": 5
}