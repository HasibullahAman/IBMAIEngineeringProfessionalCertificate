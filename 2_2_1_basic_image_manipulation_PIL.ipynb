{
  "cells": [
    {
      "cell_type": "markdown",
      "metadata": {
        "id": "view-in-github",
        "colab_type": "text"
      },
      "source": [
        "<a href=\"https://colab.research.google.com/github/HasibullahAman/IBMAIEngineeringProfessionalCertificate/blob/Introduction-to-Computer-Vision-and-Image-Processing/2_2_1_basic_image_manipulation_PIL.ipynb\" target=\"_parent\"><img src=\"https://colab.research.google.com/assets/colab-badge.svg\" alt=\"Open In Colab\"/></a>"
      ]
    },
    {
      "cell_type": "markdown",
      "metadata": {
        "id": "Ckc7EobmBp4q"
      },
      "source": [
        "<p style=\"text-align:center\">\n",
        "    <a href=\"https://skills.network/?utm_medium=Exinfluencer&utm_source=Exinfluencer&utm_content=000026UJ&utm_term=10006555&utm_id=NA-SkillsNetwork-Channel-SkillsNetworkCoursesIBMDeveloperSkillsNetworkCV0101ENCoursera872-2022-01-01\" target=\"_blank\">\n",
        "    <img src=\"https://cf-courses-data.s3.us.cloud-object-storage.appdomain.cloud/assets/logos/SN_web_lightmode.png\" width=\"200\" alt=\"Skills Network Logo\"  />\n",
        "    </a>\n",
        "</p>\n"
      ]
    },
    {
      "cell_type": "markdown",
      "metadata": {
        "id": "6DYRXhz_Bp4z"
      },
      "source": [
        "**<h1> Manipulating Images </h1>**\n"
      ]
    },
    {
      "cell_type": "markdown",
      "metadata": {
        "id": "JmHPxhucBp41"
      },
      "source": [
        "Estimated time needed: **60** minutes\n"
      ]
    },
    {
      "cell_type": "markdown",
      "metadata": {
        "id": "OvxoeWziBp41"
      },
      "source": [
        "<h2>Objectives</h2>\n"
      ]
    },
    {
      "cell_type": "markdown",
      "metadata": {
        "id": "3CjLZe4xBp42"
      },
      "source": [
        "In this lab, you will learn how to manipulate images, both as arrays and PIL image objects. You will learn how to copy an image to avoid aliasing. We will cover flipping images and cropping images. You will also learn to change pixel images; this will allow you to draw shapes, write text and superimpose images over other images.\n"
      ]
    },
    {
      "cell_type": "markdown",
      "metadata": {
        "id": "0YST6MoKBp43"
      },
      "source": [
        "<ul>\n",
        "    <li><a href='#MI'>Manipulating Images </a>\n",
        "        <ul>\n",
        "            <li>Copying Images  </li>\n",
        "            <li>Fliping Images </li>\n",
        "            <li>Cropping an Image </li>\n",
        "            <li>Changing Specific Image Pixels </li>\n",
        "     \n",
        "  \n",
        "    \n",
        "</ul>\n"
      ]
    },
    {
      "cell_type": "markdown",
      "metadata": {
        "id": "qaHYwIwPBp44"
      },
      "source": [
        "----\n"
      ]
    },
    {
      "cell_type": "markdown",
      "metadata": {
        "id": "kRH859plBp45"
      },
      "source": [
        "Download the images for the lab:\n"
      ]
    },
    {
      "cell_type": "code",
      "execution_count": 1,
      "metadata": {
        "colab": {
          "base_uri": "https://localhost:8080/"
        },
        "id": "JFL1hF2BBp46",
        "outputId": "c4dac2ce-c473-4950-bbae-54b747fae9ea"
      },
      "outputs": [
        {
          "output_type": "stream",
          "name": "stdout",
          "text": [
            "--2023-05-18 13:23:24--  https://cf-courses-data.s3.us.cloud-object-storage.appdomain.cloud/IBMDeveloperSkillsNetwork-CV0101EN-SkillsNetwork/images%20/images_part_1/cat.png\n",
            "Resolving cf-courses-data.s3.us.cloud-object-storage.appdomain.cloud (cf-courses-data.s3.us.cloud-object-storage.appdomain.cloud)... 169.45.118.108\n",
            "Connecting to cf-courses-data.s3.us.cloud-object-storage.appdomain.cloud (cf-courses-data.s3.us.cloud-object-storage.appdomain.cloud)|169.45.118.108|:443... connected.\n",
            "HTTP request sent, awaiting response... 200 OK\n",
            "Length: 663451 (648K) [image/png]\n",
            "Saving to: ‘cat.png’\n",
            "\n",
            "cat.png             100%[===================>] 647.90K  2.44MB/s    in 0.3s    \n",
            "\n",
            "2023-05-18 13:23:25 (2.44 MB/s) - ‘cat.png’ saved [663451/663451]\n",
            "\n",
            "--2023-05-18 13:23:25--  https://cf-courses-data.s3.us.cloud-object-storage.appdomain.cloud/IBMDeveloperSkillsNetwork-CV0101EN-SkillsNetwork/images%20/images_part_1/lenna.png\n",
            "Resolving cf-courses-data.s3.us.cloud-object-storage.appdomain.cloud (cf-courses-data.s3.us.cloud-object-storage.appdomain.cloud)... 169.45.118.108\n",
            "Connecting to cf-courses-data.s3.us.cloud-object-storage.appdomain.cloud (cf-courses-data.s3.us.cloud-object-storage.appdomain.cloud)|169.45.118.108|:443... connected.\n",
            "HTTP request sent, awaiting response... 200 OK\n",
            "Length: 473831 (463K) [image/png]\n",
            "Saving to: ‘lenna.png’\n",
            "\n",
            "lenna.png           100%[===================>] 462.73K  1.73MB/s    in 0.3s    \n",
            "\n",
            "2023-05-18 13:23:25 (1.73 MB/s) - ‘lenna.png’ saved [473831/473831]\n",
            "\n",
            "--2023-05-18 13:23:25--  https://cf-courses-data.s3.us.cloud-object-storage.appdomain.cloud/IBMDeveloperSkillsNetwork-CV0101EN-SkillsNetwork/images%20/images_part_1/baboon.png\n",
            "Resolving cf-courses-data.s3.us.cloud-object-storage.appdomain.cloud (cf-courses-data.s3.us.cloud-object-storage.appdomain.cloud)... 169.45.118.108\n",
            "Connecting to cf-courses-data.s3.us.cloud-object-storage.appdomain.cloud (cf-courses-data.s3.us.cloud-object-storage.appdomain.cloud)|169.45.118.108|:443... connected.\n",
            "HTTP request sent, awaiting response... 200 OK\n",
            "Length: 637192 (622K) [image/png]\n",
            "Saving to: ‘baboon.png’\n",
            "\n",
            "baboon.png          100%[===================>] 622.26K  3.22MB/s    in 0.2s    \n",
            "\n",
            "2023-05-18 13:23:26 (3.22 MB/s) - ‘baboon.png’ saved [637192/637192]\n",
            "\n"
          ]
        }
      ],
      "source": [
        "!wget https://cf-courses-data.s3.us.cloud-object-storage.appdomain.cloud/IBMDeveloperSkillsNetwork-CV0101EN-SkillsNetwork/images%20/images_part_1/cat.png -O cat.png\n",
        "!wget https://cf-courses-data.s3.us.cloud-object-storage.appdomain.cloud/IBMDeveloperSkillsNetwork-CV0101EN-SkillsNetwork/images%20/images_part_1/lenna.png -O lenna.png\n",
        "!wget https://cf-courses-data.s3.us.cloud-object-storage.appdomain.cloud/IBMDeveloperSkillsNetwork-CV0101EN-SkillsNetwork/images%20/images_part_1/baboon.png -O baboon.png"
      ]
    },
    {
      "cell_type": "markdown",
      "metadata": {
        "id": "YdXZ9CqRBp48"
      },
      "source": [
        "We will be using these imported functions in the lab:\n"
      ]
    },
    {
      "cell_type": "code",
      "execution_count": 2,
      "metadata": {
        "id": "DIbn_89SBp49"
      },
      "outputs": [],
      "source": [
        "import matplotlib.pyplot as plt\n",
        "from PIL import Image\n",
        "import numpy as np"
      ]
    },
    {
      "cell_type": "markdown",
      "metadata": {
        "id": "WH3cFjEnBp4-"
      },
      "source": [
        "## Copying Images\n"
      ]
    },
    {
      "cell_type": "markdown",
      "metadata": {
        "id": "63qTY1KoBp4_"
      },
      "source": [
        "If you want to reassign an array to another variable, you should use the `copy` method. \n"
      ]
    },
    {
      "cell_type": "code",
      "execution_count": null,
      "metadata": {
        "id": "lKsFKeXCBp4_"
      },
      "outputs": [],
      "source": [
        "baboon = np.array(Image.open('baboon.png'))\n",
        "plt.figure(figsize=(5,5))\n",
        "plt.imshow(baboon )\n",
        "plt.show()"
      ]
    },
    {
      "cell_type": "markdown",
      "metadata": {
        "id": "dj_QcipOBp5A"
      },
      "source": [
        "If we do not apply the method `copy()`, the two variables would point to the same location in memory:\n"
      ]
    },
    {
      "cell_type": "code",
      "execution_count": null,
      "metadata": {
        "id": "_mOP0xH1Bp5A"
      },
      "outputs": [],
      "source": [
        "A = baboon"
      ]
    },
    {
      "cell_type": "markdown",
      "metadata": {
        "id": "MVRCFBdpBp5B"
      },
      "source": [
        "We use the  `id`  function to find a variable's memory address; we see the objects in the memory space which the variables `A` and `baboon` point to are the same.\n"
      ]
    },
    {
      "cell_type": "code",
      "execution_count": null,
      "metadata": {
        "id": "dLKTWRPPBp5B"
      },
      "outputs": [],
      "source": [
        "id(A) == id(baboon)"
      ]
    },
    {
      "cell_type": "markdown",
      "metadata": {
        "id": "2_ja3oMjBp5C"
      },
      "source": [
        "However, if we apply method `copy()`, their memory addresses are different.\n"
      ]
    },
    {
      "cell_type": "code",
      "execution_count": null,
      "metadata": {
        "id": "lDd8VX2tBp5C"
      },
      "outputs": [],
      "source": [
        "B = baboon.copy()\n",
        "id(B)==id(baboon)"
      ]
    },
    {
      "cell_type": "markdown",
      "metadata": {
        "id": "mjtkNRBxBp5D"
      },
      "source": [
        "There may be unexpected behaviours when two variables point to the same object in memory. Consider the array `baboon`. If we set all its entries to zero, all entires in `A` will become zero as well. However, as `baboon` and `B` points to different objects, the values in `B` will not be affected. \n"
      ]
    },
    {
      "cell_type": "code",
      "execution_count": null,
      "metadata": {
        "id": "iw7mOo18Bp5D"
      },
      "outputs": [],
      "source": [
        "baboon[:,:,] = 0"
      ]
    },
    {
      "cell_type": "markdown",
      "metadata": {
        "id": "ORvGg7J9Bp5E"
      },
      "source": [
        "We can compare the variables <code>baboon</code> and array <code>A</code>:\n"
      ]
    },
    {
      "cell_type": "code",
      "execution_count": null,
      "metadata": {
        "id": "XE40OV5YBp5E"
      },
      "outputs": [],
      "source": [
        "plt.figure(figsize=(10,10))\n",
        "plt.subplot(121)\n",
        "plt.imshow(baboon)\n",
        "plt.title(\"baboon\")\n",
        "plt.subplot(122)\n",
        "plt.imshow(A)\n",
        "plt.title(\"array A\")\n",
        "plt.show()"
      ]
    },
    {
      "cell_type": "markdown",
      "metadata": {
        "id": "o1UkclyGBp5F"
      },
      "source": [
        "We see they are the same. This behaviour is called aliasing. Aliasing happens whenever one variable's value is assigned to another variable. Variables are references to values on the memory. \n",
        "\n",
        "We can also compare <code>baboon</code> and array <code>B</code>:\n"
      ]
    },
    {
      "cell_type": "code",
      "execution_count": null,
      "metadata": {
        "id": "LtxkGYo8Bp5F"
      },
      "outputs": [],
      "source": [
        "plt.figure(figsize=(10,10))\n",
        "plt.subplot(121)\n",
        "plt.imshow(baboon)\n",
        "plt.title(\"baboon\")\n",
        "plt.subplot(122)\n",
        "plt.imshow(B)\n",
        "plt.title(\"array B\")\n",
        "plt.show()"
      ]
    },
    {
      "cell_type": "markdown",
      "metadata": {
        "id": "nIvlvGPqBp5G"
      },
      "source": [
        "\n",
        "If a PIL function does not return a new image, the same principle applies. We will go over some examples later on. \n"
      ]
    },
    {
      "cell_type": "markdown",
      "metadata": {
        "id": "C1Gqz_PUBp5G"
      },
      "source": [
        "## Flipping Images \n"
      ]
    },
    {
      "cell_type": "markdown",
      "metadata": {
        "id": "FOPB2FbWBp5G"
      },
      "source": [
        "Flipping images involves reordering the indices of the pixels such that it changes the orientation of the image. Consider the following image:\n"
      ]
    },
    {
      "cell_type": "code",
      "execution_count": null,
      "metadata": {
        "id": "eOaJx0PqBp5G"
      },
      "outputs": [],
      "source": [
        "image = Image.open(\"cat.png\")\n",
        "plt.figure(figsize=(10,10))\n",
        "plt.imshow(image)\n",
        "plt.show()"
      ]
    },
    {
      "cell_type": "markdown",
      "metadata": {
        "id": "sXwelCkmBp5H"
      },
      "source": [
        "We can cast it to an array and find its shape:\n"
      ]
    },
    {
      "cell_type": "code",
      "execution_count": null,
      "metadata": {
        "id": "vzmP6oOVBp5H"
      },
      "outputs": [],
      "source": [
        "array = np.array(image)\n",
        "width, height, C = array.shape\n",
        "print('width, height, C', width, height, C)"
      ]
    },
    {
      "cell_type": "markdown",
      "metadata": {
        "id": "-RXU6EagBp5I"
      },
      "source": [
        "Let's flip, i.e rotate vertically, the image. Let's try the traditional approach. First, we create an array of the same size with datatype <code>np.uint8</code>.\n"
      ]
    },
    {
      "cell_type": "code",
      "execution_count": null,
      "metadata": {
        "id": "TdWsF6g6Bp5I"
      },
      "outputs": [],
      "source": [
        "array_flip = np.zeros((width, height, C), dtype=np.uint8)"
      ]
    },
    {
      "cell_type": "markdown",
      "metadata": {
        "id": "gCSEwgVwBp5I"
      },
      "source": [
        "We assign the first row of pixels of the original array to the new array’s last row. We repeat the process for every row, incrementing the row number from the original array and decreasing the new array’s row index to assign the pixels accordingly. After excecuting the for loop below, `array_flip` will become the flipped image. \n"
      ]
    },
    {
      "cell_type": "code",
      "execution_count": null,
      "metadata": {
        "id": "M5EVtAPwBp5J"
      },
      "outputs": [],
      "source": [
        "for i,row in enumerate(array):\n",
        "    array_flip[width - 1 - i, :, :] = row"
      ]
    },
    {
      "cell_type": "markdown",
      "metadata": {
        "id": "HwVjIRsABp5K"
      },
      "source": [
        "<code>PIL</code> has several ways to flip an image, for example, we can use the <code>ImageOps</code> module:\n"
      ]
    },
    {
      "cell_type": "code",
      "execution_count": null,
      "metadata": {
        "id": "Na4hqYVmBp5K"
      },
      "outputs": [],
      "source": [
        "from PIL import ImageOps"
      ]
    },
    {
      "cell_type": "markdown",
      "metadata": {
        "id": "70ep2Dk7Bp5K"
      },
      "source": [
        "The `flip()` method of `ImageOps` module flips the image. The `mirror()` method will mirror  the image:\n"
      ]
    },
    {
      "cell_type": "code",
      "execution_count": null,
      "metadata": {
        "id": "sAVf9dahBp5W"
      },
      "outputs": [],
      "source": [
        "im_flip = ImageOps.flip(image)\n",
        "plt.figure(figsize=(5,5))\n",
        "plt.imshow(im_flip)\n",
        "plt.show()"
      ]
    },
    {
      "cell_type": "code",
      "execution_count": null,
      "metadata": {
        "id": "qdwlZmOjBp5W"
      },
      "outputs": [],
      "source": [
        "im_mirror = ImageOps.mirror(image)\n",
        "plt.figure(figsize=(5,5))\n",
        "plt.imshow(im_mirror)\n",
        "plt.show()"
      ]
    },
    {
      "cell_type": "markdown",
      "metadata": {
        "id": "Hxb3DAhwBp5X"
      },
      "source": [
        "We can use  the <code>transpose()</code> method; the parameter is an integer indicating what type of transposition we would like to perform. For example, we can flip the image using a value of `1`.\n"
      ]
    },
    {
      "cell_type": "code",
      "execution_count": null,
      "metadata": {
        "id": "osIkjlKqBp5X"
      },
      "outputs": [],
      "source": [
        "im_flip = image.transpose(1)\n",
        "plt.imshow(im_flip)\n",
        "plt.show()"
      ]
    },
    {
      "cell_type": "markdown",
      "metadata": {
        "id": "qY13fQTrBp5Y"
      },
      "source": [
        "The Image module has built-in attributes that describe the type of flip. The values are just integers. Several are shown in the following <code>dict</code>:\n"
      ]
    },
    {
      "cell_type": "code",
      "execution_count": null,
      "metadata": {
        "id": "kV-VrG3PBp5Y"
      },
      "outputs": [],
      "source": [
        "flip = {\"FLIP_LEFT_RIGHT\": Image.FLIP_LEFT_RIGHT,\n",
        "        \"FLIP_TOP_BOTTOM\": Image.FLIP_TOP_BOTTOM,\n",
        "        \"ROTATE_90\": Image.ROTATE_90,\n",
        "        \"ROTATE_180\": Image.ROTATE_180,\n",
        "        \"ROTATE_270\": Image.ROTATE_270,\n",
        "        \"TRANSPOSE\": Image.TRANSPOSE, \n",
        "        \"TRANSVERSE\": Image.TRANSVERSE}"
      ]
    },
    {
      "cell_type": "markdown",
      "metadata": {
        "id": "2ToXu8n6Bp5Y"
      },
      "source": [
        "We see the values are integers.\n"
      ]
    },
    {
      "cell_type": "code",
      "execution_count": null,
      "metadata": {
        "id": "9NsMJD2uBp5Z"
      },
      "outputs": [],
      "source": [
        "flip[\"FLIP_LEFT_RIGHT\"]"
      ]
    },
    {
      "cell_type": "markdown",
      "metadata": {
        "id": "FsP_DXCRBp5Z"
      },
      "source": [
        "We can plot each of the outputs using the different  parameter values:\n"
      ]
    },
    {
      "cell_type": "code",
      "execution_count": null,
      "metadata": {
        "id": "Lx9IBhu9Bp5a"
      },
      "outputs": [],
      "source": [
        "for key, values in flip.items():\n",
        "    plt.figure(figsize=(10,10))\n",
        "    plt.subplot(1,2,1)\n",
        "    plt.imshow(image)\n",
        "    plt.title(\"orignal\")\n",
        "    plt.subplot(1,2,2)\n",
        "    plt.imshow(image.transpose(values))\n",
        "    plt.title(key)\n",
        "    plt.show()"
      ]
    },
    {
      "cell_type": "markdown",
      "metadata": {
        "id": "yivfSRujBp5a"
      },
      "source": [
        " ## Cropping an Image\n"
      ]
    },
    {
      "cell_type": "markdown",
      "metadata": {
        "id": "UVrf8AwmBp5a"
      },
      "source": [
        "Cropping is the act of \"cutting out\" a part of an image and throwing out the rest. We can perform cropping using array slicing. \n",
        "\n",
        "Let start with a vertical crop: the variable `upper` is the index of the first row that we would like to include in the image, the variable `lower` is the index of the last row we would like to include. We then perform array slicing to obtain the new image. \n"
      ]
    },
    {
      "cell_type": "code",
      "execution_count": null,
      "metadata": {
        "id": "QBaEGk_dBp5b"
      },
      "outputs": [],
      "source": [
        "upper = 150\n",
        "lower = 400\n",
        "crop_top = array[upper: lower,:,:]\n",
        "plt.figure(figsize=(5,5))\n",
        "plt.imshow(crop_top)\n",
        "plt.show()"
      ]
    },
    {
      "cell_type": "markdown",
      "metadata": {
        "id": "5Cg8hCc0Bp5b"
      },
      "source": [
        "Consider the array `crop_top`: we can also crop horizontally. The variable `right` is the index of the first column that we would like to include in the image and the variable `left` is the index of the last column we would like to include in the image.\n"
      ]
    },
    {
      "cell_type": "code",
      "execution_count": null,
      "metadata": {
        "id": "jAdBbPThBp5c"
      },
      "outputs": [],
      "source": [
        "left = 150\n",
        "right = 400\n",
        "crop_horizontal = crop_top[: ,left:right,:]\n",
        "plt.figure(figsize=(5,5))\n",
        "plt.imshow(crop_horizontal)\n",
        "plt.show()"
      ]
    },
    {
      "cell_type": "markdown",
      "metadata": {
        "id": "hrRjrSKfBp5c"
      },
      "source": [
        "You can crop the PIL image using the <code>crop()</code> method, using the parameters from above Set the cropping area with <code>box=(left, upper, right, lower)</code>.\n"
      ]
    },
    {
      "cell_type": "code",
      "execution_count": null,
      "metadata": {
        "id": "cMbNWtKIBp5c"
      },
      "outputs": [],
      "source": [
        "image = Image.open(\"cat.png\")\n",
        "crop_image = image.crop((left, upper, right, lower))\n",
        "plt.figure(figsize=(5,5))\n",
        "plt.imshow(crop_image)\n",
        "plt.show()"
      ]
    },
    {
      "cell_type": "markdown",
      "metadata": {
        "id": "hKzx-s_LBp5d"
      },
      "source": [
        "We can also flip the new image:\n"
      ]
    },
    {
      "cell_type": "code",
      "execution_count": null,
      "metadata": {
        "id": "faqAEUzhBp5d"
      },
      "outputs": [],
      "source": [
        "crop_image = crop_image.transpose(Image.FLIP_LEFT_RIGHT)\n",
        "crop_image"
      ]
    },
    {
      "cell_type": "markdown",
      "metadata": {
        "id": "m82Q9knYBp5e"
      },
      "source": [
        "## Changing Specific Image Pixels\n"
      ]
    },
    {
      "cell_type": "markdown",
      "metadata": {
        "id": "HDRslHWRBp5e"
      },
      "source": [
        "We can change specific image pixels using  array indexing; for example, we can set  all the green and blue channels in the original image we cropped to zero:\n"
      ]
    },
    {
      "cell_type": "code",
      "execution_count": null,
      "metadata": {
        "id": "wMk2GoGmBp5e"
      },
      "outputs": [],
      "source": [
        "array_sq = np.copy(array)\n",
        "array_sq[upper:lower, left:right, 1:2] = 0"
      ]
    },
    {
      "cell_type": "markdown",
      "metadata": {
        "id": "j4PVUUFGBp5f"
      },
      "source": [
        "We can compare the results with the new image. \n"
      ]
    },
    {
      "cell_type": "code",
      "execution_count": null,
      "metadata": {
        "id": "Qty1EwJ1Bp5f"
      },
      "outputs": [],
      "source": [
        "plt.figure(figsize=(5,5))\n",
        "plt.subplot(1,2,1)\n",
        "plt.imshow(array)\n",
        "plt.title(\"orignal\")\n",
        "plt.subplot(1,2,2)\n",
        "plt.imshow(array_sq)\n",
        "plt.title(\"Altered Image\")\n",
        "plt.show()"
      ]
    },
    {
      "cell_type": "markdown",
      "metadata": {
        "id": "j90gLVwgBp5g"
      },
      "source": [
        "We can also use the `ImageDraw` module from `PIL` library, which provides simple 2D graphics for Image objects \n"
      ]
    },
    {
      "cell_type": "code",
      "execution_count": null,
      "metadata": {
        "id": "1wDrV3f4Bp5g"
      },
      "outputs": [],
      "source": [
        "from PIL import ImageDraw "
      ]
    },
    {
      "cell_type": "markdown",
      "metadata": {
        "id": "Wv9TDeyeBp5g"
      },
      "source": [
        "We will copy the image object:\n"
      ]
    },
    {
      "cell_type": "code",
      "execution_count": null,
      "metadata": {
        "id": "PRkDL7aUBp5h"
      },
      "outputs": [],
      "source": [
        "image_draw = image.copy()"
      ]
    },
    {
      "cell_type": "markdown",
      "metadata": {
        "id": "2ULSPC_vBp5h"
      },
      "source": [
        "The draw constructor creates an object that can be used to draw in the given image. The input <code>im</code> is the image we would like to draw in.\n",
        "\n"
      ]
    },
    {
      "cell_type": "code",
      "execution_count": null,
      "metadata": {
        "id": "ITSDiZdcBp5h"
      },
      "outputs": [],
      "source": [
        "image_fn = ImageDraw.Draw(im=image_draw)"
      ]
    },
    {
      "cell_type": "markdown",
      "metadata": {
        "id": "HLMcsP8wBp5i"
      },
      "source": [
        "Whatever method we apply to the object <code>image_fn</code>, will change the image object <code>image_draw</code>.\n"
      ]
    },
    {
      "cell_type": "markdown",
      "metadata": {
        "id": "3qV2BY4HBp5i"
      },
      "source": [
        "We can draw a rectangle using the <code>rectangle</code> function, two important parameters include: <code>xy</code> – the coordinates bounding box  and <code>fill</code> – Color of the rectangle.\n"
      ]
    },
    {
      "cell_type": "code",
      "execution_count": null,
      "metadata": {
        "id": "MJC5L1K1Bp5j"
      },
      "outputs": [],
      "source": [
        "shape = [left, upper, right, lower] \n",
        "image_fn.rectangle(xy=shape,fill=\"red\")"
      ]
    },
    {
      "cell_type": "markdown",
      "metadata": {
        "id": "27I8UF3KBp5j"
      },
      "source": [
        "We can plot the image.\n"
      ]
    },
    {
      "cell_type": "code",
      "execution_count": null,
      "metadata": {
        "id": "6ZVMqmJ0Bp5j"
      },
      "outputs": [],
      "source": [
        "plt.figure(figsize=(10,10))\n",
        "plt.imshow(image_draw)\n",
        "plt.show()"
      ]
    },
    {
      "cell_type": "markdown",
      "metadata": {
        "id": "q7wMofhbBp5k"
      },
      "source": [
        "There are other shapes we can use. For example, we can also overlay text on an image: we use the ImageFont module to obtain  bitmap fonts.\n"
      ]
    },
    {
      "cell_type": "code",
      "execution_count": null,
      "metadata": {
        "id": "1FVGihavBp5k"
      },
      "outputs": [],
      "source": [
        "from PIL import ImageFont"
      ]
    },
    {
      "cell_type": "markdown",
      "metadata": {
        "id": "OirIvSQqBp5k"
      },
      "source": [
        "We use the text method to place the text on the image. The parameters include `xy` (the top-left anchor coordinates of the text), the parameter `text` (the text to be drawn), and `fill` (the color to use for the text).\n"
      ]
    },
    {
      "cell_type": "code",
      "execution_count": null,
      "metadata": {
        "id": "IZL7V-yjBp5l"
      },
      "outputs": [],
      "source": [
        "image_fn.text(xy=(0,0),text=\"box\",fill=(0,0,0))"
      ]
    },
    {
      "cell_type": "code",
      "execution_count": null,
      "metadata": {
        "id": "uvGdLnEJBp5l"
      },
      "outputs": [],
      "source": [
        "plt.figure(figsize=(10,10))\n",
        "plt.imshow(image_draw)\n",
        "plt.show()"
      ]
    },
    {
      "cell_type": "markdown",
      "metadata": {
        "id": "Uq91DTt2Bp5l"
      },
      "source": [
        "We can overlay or paste one image over another by reassigning the pixel for one array to the next. Consider the following image array:\n"
      ]
    },
    {
      "cell_type": "code",
      "execution_count": null,
      "metadata": {
        "id": "3ug3vI7VBp5m"
      },
      "outputs": [],
      "source": [
        "image_lenna = Image.open(\"lenna.png\")\n",
        "array_lenna = np.array(image_lenna)"
      ]
    },
    {
      "cell_type": "markdown",
      "metadata": {
        "id": "tjZ_NG2iBp5m"
      },
      "source": [
        "We can reassign the pixel values as follows:\n"
      ]
    },
    {
      "cell_type": "code",
      "execution_count": null,
      "metadata": {
        "id": "SBoopt9CBp5n"
      },
      "outputs": [],
      "source": [
        "array_lenna[upper:lower,left:right,:]=array[upper:lower,left:right,:]\n",
        "plt.imshow(array_lenna)\n",
        "plt.show()"
      ]
    },
    {
      "cell_type": "markdown",
      "metadata": {
        "id": "L6JeWITRBp5n"
      },
      "source": [
        "In the same manner, the <code>paste()</code> method allows you to overlay one image over another, with the input being the image you would like to overlay. The parameter box is the left and upper coordinate of the image:\n"
      ]
    },
    {
      "cell_type": "code",
      "execution_count": null,
      "metadata": {
        "id": "C8kwEiL_Bp5o"
      },
      "outputs": [],
      "source": [
        "image_lenna.paste(crop_image, box=(left,upper))"
      ]
    },
    {
      "cell_type": "code",
      "execution_count": null,
      "metadata": {
        "id": "9s9VnLU3Bp5o"
      },
      "outputs": [],
      "source": [
        "plt.imshow(image_lenna)\n",
        "plt.show()"
      ]
    },
    {
      "cell_type": "markdown",
      "metadata": {
        "id": "EJwFcyf2Bp5o"
      },
      "source": [
        "We can see the method `copy()` applies to some <code>PIL</code> objects. We create two image objects, we set `new_image` to the `image`, and we use the method `copy()` for the `copy_image` object.\n"
      ]
    },
    {
      "cell_type": "code",
      "execution_count": null,
      "metadata": {
        "id": "Bspf0f8xBp5o"
      },
      "outputs": [],
      "source": [
        "image = Image.open(\"cat.png\")\n",
        "new_image=image\n",
        "copy_image=image.copy()"
      ]
    },
    {
      "cell_type": "markdown",
      "metadata": {
        "id": "L5jDcc3CBp5p"
      },
      "source": [
        "Like the array, we see that the same memory address relationship exists. For example, if we don't use the method `copy()`, the image object has the same memory address as the original PIL image object. \n"
      ]
    },
    {
      "cell_type": "code",
      "execution_count": null,
      "metadata": {
        "id": "2S3VB4POBp5p"
      },
      "outputs": [],
      "source": [
        "id(image)==id(new_image)"
      ]
    },
    {
      "cell_type": "markdown",
      "metadata": {
        "id": "3Gah4E8fBp5q"
      },
      "source": [
        "If we use the method <code>copy()</code>, the address is different:\n"
      ]
    },
    {
      "cell_type": "code",
      "execution_count": null,
      "metadata": {
        "id": "8bre5KxXBp5q"
      },
      "outputs": [],
      "source": [
        "id(image)==id(copy_image)"
      ]
    },
    {
      "cell_type": "markdown",
      "metadata": {
        "id": "mX6phI2NBp5q"
      },
      "source": [
        "If we change the object <code>image</code>, <code>new_image</code> will change, but <code>copy_image</code> will remain the same:\n"
      ]
    },
    {
      "cell_type": "code",
      "execution_count": null,
      "metadata": {
        "id": "1ev01WxpBp5r"
      },
      "outputs": [],
      "source": [
        "image_fn= ImageDraw.Draw(im=image)\n",
        "image_fn.text(xy=(0,0),text=\"box\",fill=(0,0,0))\n",
        "image_fn.rectangle(xy=shape,fill=\"red\")"
      ]
    },
    {
      "cell_type": "code",
      "execution_count": null,
      "metadata": {
        "id": "TvfZvOafBp5r"
      },
      "outputs": [],
      "source": [
        "plt.figure(figsize=(10,10))\n",
        "plt.subplot(121)\n",
        "plt.imshow(new_image)\n",
        "plt.subplot(122)\n",
        "plt.imshow(copy_image)\n",
        "plt.show()"
      ]
    },
    {
      "cell_type": "markdown",
      "metadata": {
        "id": "ReO65qHKBp5r"
      },
      "source": [
        "### Question 1:\n",
        "Use the image `baboon.png` from this lab or take any image you like.\n",
        "\n",
        "Open the image and create a PIL Image object called `im`, flip `im` and create an image called `im_flip`. Mirror `im` and create an image called `im_mirror`. Finally, plot both images.\n"
      ]
    },
    {
      "cell_type": "code",
      "execution_count": null,
      "metadata": {
        "id": "PbcYngc7Bp5s"
      },
      "outputs": [],
      "source": [
        "# write your script here\n"
      ]
    },
    {
      "cell_type": "markdown",
      "metadata": {
        "id": "J1pyKa-OBp5s"
      },
      "source": [
        "Double-click **here** for a hint.\n",
        "\n",
        "<!-- The hint is below:\n",
        "\n",
        "im_flip = ImageOps.flip(im)\n",
        "im_mirror = ImageOps.mirror(im)\n",
        "\n",
        "-->\n"
      ]
    },
    {
      "cell_type": "markdown",
      "metadata": {
        "id": "r_LXysoWBp5s"
      },
      "source": [
        "Double-click **here** for the solution.\n",
        "\n",
        "<!-- The answer is below:\n",
        "\n",
        "im = Image.open(\"lenna.png\")\n",
        "\n",
        "im_flip = ImageOps.flip(im)\n",
        "plt.figure(figsize=(5,5))\n",
        "plt.imshow(im_flip)\n",
        "plt.show()\n",
        "\n",
        "im_mirror = ImageOps.mirror(im)\n",
        "plt.figure(figsize=(5,5))\n",
        "plt.imshow(im_mirror)\n",
        "plt.show()\n",
        "\n",
        "-->\n"
      ]
    },
    {
      "cell_type": "markdown",
      "metadata": {
        "id": "NFFapg14Bp5s"
      },
      "source": [
        "<h2>Authors</h2>\n"
      ]
    },
    {
      "cell_type": "markdown",
      "metadata": {
        "id": "Txf-YgDbBp5s"
      },
      "source": [
        " [Joseph Santarcangelo](https://www.linkedin.com/in/joseph-s-50398b136/?utm_medium=Exinfluencer&utm_source=Exinfluencer&utm_content=000026UJ&utm_term=10006555&utm_id=NA-SkillsNetwork-Channel-SkillsNetworkCoursesIBMDeveloperSkillsNetworkCV0101ENCoursera872-2022-01-01) has a PhD in Electrical Engineering, his research focused on using machine learning, signal processing, and computer vision to determine how videos impact human cognition. Joseph has been working for IBM since he completed his PhD.\n"
      ]
    },
    {
      "cell_type": "markdown",
      "metadata": {
        "id": "AG9qJmniBp5t"
      },
      "source": [
        " [Nayef Abou Tayoun](https://www.linkedin.com/in/nayefaboutayoun/?utm_medium=Exinfluencer&utm_source=Exinfluencer&utm_content=000026UJ&utm_term=10006555&utm_id=NA-SkillsNetwork-Channel-SkillsNetworkCoursesIBMDeveloperSkillsNetworkCV0101ENCoursera872-2022-01-01) has a master of management in artificial intelligence degree, focusing on using machine learning and computer vision.\n"
      ]
    },
    {
      "cell_type": "markdown",
      "metadata": {
        "id": "8UcM5i3EBp5t"
      },
      "source": [
        "# References \n"
      ]
    },
    {
      "cell_type": "markdown",
      "metadata": {
        "id": "WvlV326FBp5t"
      },
      "source": [
        "[1]  Images were taken from: https://homepages.cae.wisc.edu/~ece533/images/\n",
        "    \n",
        "[2]  <a href='https://pillow.readthedocs.io/en/stable/index.html?utm_medium=Exinfluencer&utm_source=Exinfluencer&utm_content=000026UJ&utm_term=10006555&utm_id=NA-SkillsNetwork-Channel-SkillsNetworkCoursesIBMDeveloperSkillsNetworkCV0101ENCoursera872-2022-01-01'>Pillow Docs</a>\n",
        "\n",
        "[3]  <a href='https://opencv.org/?utm_medium=Exinfluencer&utm_source=Exinfluencer&utm_content=000026UJ&utm_term=10006555&utm_id=NA-SkillsNetwork-Channel-SkillsNetworkCoursesIBMDeveloperSkillsNetworkCV0101ENCoursera872-2022-01-01'>Open CV</a>\n",
        "\n",
        "[4] Gonzalez, Rafael C., and Richard E. Woods. \"Digital image processing.\" (2017).\n"
      ]
    },
    {
      "cell_type": "markdown",
      "metadata": {
        "id": "4jzA1kGZBp5t"
      },
      "source": [
        "<h2>Change Log</h2>\n"
      ]
    },
    {
      "cell_type": "markdown",
      "metadata": {
        "id": "ydld-DZtBp5t"
      },
      "source": [
        "<table>\n",
        "    <tr>\n",
        "        <th>Date (YYYY-MM-DD)</th>\n",
        "        <th>Version</th>\n",
        "        <th>Changed By</th>\n",
        "        <th>Change Description</th>\n",
        "    </tr>\n",
        "    <tr>\n",
        "        <td>2020-07-20</td>\n",
        "        <td>0.2</td>\n",
        "        <td>Azim</td>\n",
        "        <td>Modified Multiple Areas</td>\n",
        "    </tr>\n",
        "    <tr>\n",
        "        <td>2020-07-17</td>\n",
        "        <td>0.1</td>\n",
        "        <td>Azim</td>\n",
        "        <td>Created Lab Template</td>\n",
        "    </tr>\n",
        "    <tr>\n",
        "        <td>2021-03-06</td>\n",
        "        <td>0.3</td>\n",
        "        <td>Nayef</td>\n",
        "        <td>Modified some codes</td>\n",
        "    </tr>\n",
        "</table>\n"
      ]
    },
    {
      "cell_type": "markdown",
      "metadata": {
        "id": "kYxcOv3wBp5u"
      },
      "source": [
        "Copyright © 2020 IBM Corporation. All rights reserved.\n"
      ]
    }
  ],
  "metadata": {
    "kernelspec": {
      "display_name": "Python",
      "language": "python",
      "name": "conda-env-python-py"
    },
    "language_info": {
      "name": ""
    },
    "colab": {
      "provenance": [],
      "include_colab_link": true
    }
  },
  "nbformat": 4,
  "nbformat_minor": 0
}