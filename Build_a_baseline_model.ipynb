{
  "nbformat": 4,
  "nbformat_minor": 0,
  "metadata": {
    "colab": {
      "provenance": [],
      "authorship_tag": "ABX9TyNez8aFyJvN7YBLbPsOihQQ",
      "include_colab_link": true
    },
    "kernelspec": {
      "name": "python3",
      "display_name": "Python 3"
    },
    "language_info": {
      "name": "python"
    }
  },
  "cells": [
    {
      "cell_type": "markdown",
      "metadata": {
        "id": "view-in-github",
        "colab_type": "text"
      },
      "source": [
        "<a href=\"https://colab.research.google.com/github/HasibullahAman/IBMAIEngineeringProfessionalCertificate/blob/Introduction-to-Deep-Learning-%26-Neural-Networks-with-Keras/Build_a_baseline_model.ipynb\" target=\"_parent\"><img src=\"https://colab.research.google.com/assets/colab-badge.svg\" alt=\"Open In Colab\"/></a>"
      ]
    },
    {
      "cell_type": "markdown",
      "source": [
        "<center><span style=\"font-family:Comic Sans MS; color:navy \"><h1>Task 1</h1></span></center>"
      ],
      "metadata": {
        "id": "CCZKwpdM8xev"
      }
    },
    {
      "cell_type": "markdown",
      "source": [
        "## Import library's"
      ],
      "metadata": {
        "id": "EliGZ5R6AC6S"
      }
    },
    {
      "cell_type": "code",
      "execution_count": 24,
      "metadata": {
        "id": "iFIDbg6T8htm"
      },
      "outputs": [],
      "source": [
        "# i had just need this for preprocessing \n",
        "import numpy as np\n",
        "import pandas as pd\n",
        "import matplotlib.pyplot as plt\n",
        "# I need this for my Neural network model\n",
        "from keras.models import Sequential\n",
        "from keras.layers import Dense\n",
        "# for split data\n",
        "from sklearn.model_selection import train_test_split\n",
        "# for test our model\n",
        "from sklearn.metrics import mean_squared_error"
      ]
    },
    {
      "cell_type": "markdown",
      "source": [
        "## Import Data"
      ],
      "metadata": {
        "id": "leTI3_KYHlHP"
      }
    },
    {
      "cell_type": "code",
      "source": [
        "concrete_data = pd.read_csv('https://s3-api.us-geo.objectstorage.softlayer.net/cf-courses-data/CognitiveClass/DL0101EN/labs/data/concrete_data.csv')\n",
        "concrete_data.head()"
      ],
      "metadata": {
        "colab": {
          "base_uri": "https://localhost:8080/",
          "height": 206
        },
        "id": "TBUY_Xd6HpwJ",
        "outputId": "7989e164-dc7c-469e-eb60-04f0b579c50c"
      },
      "execution_count": 12,
      "outputs": [
        {
          "output_type": "execute_result",
          "data": {
            "text/plain": [
              "   Cement  Blast Furnace Slag  Fly Ash  Water  Superplasticizer  \\\n",
              "0   540.0                 0.0      0.0  162.0               2.5   \n",
              "1   540.0                 0.0      0.0  162.0               2.5   \n",
              "2   332.5               142.5      0.0  228.0               0.0   \n",
              "3   332.5               142.5      0.0  228.0               0.0   \n",
              "4   198.6               132.4      0.0  192.0               0.0   \n",
              "\n",
              "   Coarse Aggregate  Fine Aggregate  Age  Strength  \n",
              "0            1040.0           676.0   28     79.99  \n",
              "1            1055.0           676.0   28     61.89  \n",
              "2             932.0           594.0  270     40.27  \n",
              "3             932.0           594.0  365     41.05  \n",
              "4             978.4           825.5  360     44.30  "
            ],
            "text/html": [
              "\n",
              "  <div id=\"df-ab8b19e3-b83e-4190-a268-faf1d35dc32e\">\n",
              "    <div class=\"colab-df-container\">\n",
              "      <div>\n",
              "<style scoped>\n",
              "    .dataframe tbody tr th:only-of-type {\n",
              "        vertical-align: middle;\n",
              "    }\n",
              "\n",
              "    .dataframe tbody tr th {\n",
              "        vertical-align: top;\n",
              "    }\n",
              "\n",
              "    .dataframe thead th {\n",
              "        text-align: right;\n",
              "    }\n",
              "</style>\n",
              "<table border=\"1\" class=\"dataframe\">\n",
              "  <thead>\n",
              "    <tr style=\"text-align: right;\">\n",
              "      <th></th>\n",
              "      <th>Cement</th>\n",
              "      <th>Blast Furnace Slag</th>\n",
              "      <th>Fly Ash</th>\n",
              "      <th>Water</th>\n",
              "      <th>Superplasticizer</th>\n",
              "      <th>Coarse Aggregate</th>\n",
              "      <th>Fine Aggregate</th>\n",
              "      <th>Age</th>\n",
              "      <th>Strength</th>\n",
              "    </tr>\n",
              "  </thead>\n",
              "  <tbody>\n",
              "    <tr>\n",
              "      <th>0</th>\n",
              "      <td>540.0</td>\n",
              "      <td>0.0</td>\n",
              "      <td>0.0</td>\n",
              "      <td>162.0</td>\n",
              "      <td>2.5</td>\n",
              "      <td>1040.0</td>\n",
              "      <td>676.0</td>\n",
              "      <td>28</td>\n",
              "      <td>79.99</td>\n",
              "    </tr>\n",
              "    <tr>\n",
              "      <th>1</th>\n",
              "      <td>540.0</td>\n",
              "      <td>0.0</td>\n",
              "      <td>0.0</td>\n",
              "      <td>162.0</td>\n",
              "      <td>2.5</td>\n",
              "      <td>1055.0</td>\n",
              "      <td>676.0</td>\n",
              "      <td>28</td>\n",
              "      <td>61.89</td>\n",
              "    </tr>\n",
              "    <tr>\n",
              "      <th>2</th>\n",
              "      <td>332.5</td>\n",
              "      <td>142.5</td>\n",
              "      <td>0.0</td>\n",
              "      <td>228.0</td>\n",
              "      <td>0.0</td>\n",
              "      <td>932.0</td>\n",
              "      <td>594.0</td>\n",
              "      <td>270</td>\n",
              "      <td>40.27</td>\n",
              "    </tr>\n",
              "    <tr>\n",
              "      <th>3</th>\n",
              "      <td>332.5</td>\n",
              "      <td>142.5</td>\n",
              "      <td>0.0</td>\n",
              "      <td>228.0</td>\n",
              "      <td>0.0</td>\n",
              "      <td>932.0</td>\n",
              "      <td>594.0</td>\n",
              "      <td>365</td>\n",
              "      <td>41.05</td>\n",
              "    </tr>\n",
              "    <tr>\n",
              "      <th>4</th>\n",
              "      <td>198.6</td>\n",
              "      <td>132.4</td>\n",
              "      <td>0.0</td>\n",
              "      <td>192.0</td>\n",
              "      <td>0.0</td>\n",
              "      <td>978.4</td>\n",
              "      <td>825.5</td>\n",
              "      <td>360</td>\n",
              "      <td>44.30</td>\n",
              "    </tr>\n",
              "  </tbody>\n",
              "</table>\n",
              "</div>\n",
              "      <button class=\"colab-df-convert\" onclick=\"convertToInteractive('df-ab8b19e3-b83e-4190-a268-faf1d35dc32e')\"\n",
              "              title=\"Convert this dataframe to an interactive table.\"\n",
              "              style=\"display:none;\">\n",
              "        \n",
              "  <svg xmlns=\"http://www.w3.org/2000/svg\" height=\"24px\"viewBox=\"0 0 24 24\"\n",
              "       width=\"24px\">\n",
              "    <path d=\"M0 0h24v24H0V0z\" fill=\"none\"/>\n",
              "    <path d=\"M18.56 5.44l.94 2.06.94-2.06 2.06-.94-2.06-.94-.94-2.06-.94 2.06-2.06.94zm-11 1L8.5 8.5l.94-2.06 2.06-.94-2.06-.94L8.5 2.5l-.94 2.06-2.06.94zm10 10l.94 2.06.94-2.06 2.06-.94-2.06-.94-.94-2.06-.94 2.06-2.06.94z\"/><path d=\"M17.41 7.96l-1.37-1.37c-.4-.4-.92-.59-1.43-.59-.52 0-1.04.2-1.43.59L10.3 9.45l-7.72 7.72c-.78.78-.78 2.05 0 2.83L4 21.41c.39.39.9.59 1.41.59.51 0 1.02-.2 1.41-.59l7.78-7.78 2.81-2.81c.8-.78.8-2.07 0-2.86zM5.41 20L4 18.59l7.72-7.72 1.47 1.35L5.41 20z\"/>\n",
              "  </svg>\n",
              "      </button>\n",
              "      \n",
              "  <style>\n",
              "    .colab-df-container {\n",
              "      display:flex;\n",
              "      flex-wrap:wrap;\n",
              "      gap: 12px;\n",
              "    }\n",
              "\n",
              "    .colab-df-convert {\n",
              "      background-color: #E8F0FE;\n",
              "      border: none;\n",
              "      border-radius: 50%;\n",
              "      cursor: pointer;\n",
              "      display: none;\n",
              "      fill: #1967D2;\n",
              "      height: 32px;\n",
              "      padding: 0 0 0 0;\n",
              "      width: 32px;\n",
              "    }\n",
              "\n",
              "    .colab-df-convert:hover {\n",
              "      background-color: #E2EBFA;\n",
              "      box-shadow: 0px 1px 2px rgba(60, 64, 67, 0.3), 0px 1px 3px 1px rgba(60, 64, 67, 0.15);\n",
              "      fill: #174EA6;\n",
              "    }\n",
              "\n",
              "    [theme=dark] .colab-df-convert {\n",
              "      background-color: #3B4455;\n",
              "      fill: #D2E3FC;\n",
              "    }\n",
              "\n",
              "    [theme=dark] .colab-df-convert:hover {\n",
              "      background-color: #434B5C;\n",
              "      box-shadow: 0px 1px 3px 1px rgba(0, 0, 0, 0.15);\n",
              "      filter: drop-shadow(0px 1px 2px rgba(0, 0, 0, 0.3));\n",
              "      fill: #FFFFFF;\n",
              "    }\n",
              "  </style>\n",
              "\n",
              "      <script>\n",
              "        const buttonEl =\n",
              "          document.querySelector('#df-ab8b19e3-b83e-4190-a268-faf1d35dc32e button.colab-df-convert');\n",
              "        buttonEl.style.display =\n",
              "          google.colab.kernel.accessAllowed ? 'block' : 'none';\n",
              "\n",
              "        async function convertToInteractive(key) {\n",
              "          const element = document.querySelector('#df-ab8b19e3-b83e-4190-a268-faf1d35dc32e');\n",
              "          const dataTable =\n",
              "            await google.colab.kernel.invokeFunction('convertToInteractive',\n",
              "                                                     [key], {});\n",
              "          if (!dataTable) return;\n",
              "\n",
              "          const docLinkHtml = 'Like what you see? Visit the ' +\n",
              "            '<a target=\"_blank\" href=https://colab.research.google.com/notebooks/data_table.ipynb>data table notebook</a>'\n",
              "            + ' to learn more about interactive tables.';\n",
              "          element.innerHTML = '';\n",
              "          dataTable['output_type'] = 'display_data';\n",
              "          await google.colab.output.renderOutput(dataTable, element);\n",
              "          const docLink = document.createElement('div');\n",
              "          docLink.innerHTML = docLinkHtml;\n",
              "          element.appendChild(docLink);\n",
              "        }\n",
              "      </script>\n",
              "    </div>\n",
              "  </div>\n",
              "  "
            ]
          },
          "metadata": {},
          "execution_count": 12
        }
      ]
    },
    {
      "cell_type": "markdown",
      "source": [
        "## Preprocessing & Normalization"
      ],
      "metadata": {
        "id": "mW9ikeEzJBAF"
      }
    },
    {
      "cell_type": "code",
      "source": [
        "concrete_data_columns = concrete_data.columns\n",
        "predictors = concrete_data[concrete_data_columns[concrete_data_columns != 'Strength']] # all columns except Strength\n",
        "target = concrete_data['Strength'] # Strength column"
      ],
      "metadata": {
        "id": "d6g5zuyTJBrE"
      },
      "execution_count": 14,
      "outputs": []
    },
    {
      "cell_type": "markdown",
      "source": [
        "in the cell above I split the target and and my data, like the lab we have befor"
      ],
      "metadata": {
        "id": "SgYCMqoNJpYT"
      }
    },
    {
      "cell_type": "markdown",
      "source": [
        "## Create a Neural Network"
      ],
      "metadata": {
        "id": "Vf_svvvUB_MS"
      }
    },
    {
      "cell_type": "code",
      "source": [
        "model = Sequential() # create a instance from sequential model\n",
        "# Add a fully connected (Dense) layer with 10 units and ReLU activation\n",
        "model.add(Dense(10,activation='relu'))\n",
        "model.add(Dense(1)) # I got error and I add this layer ---> https://stackoverflow.com/questions/60988136/calculating-mean-square-error-return-y-true-and-y-pred-have-different-number-of\n",
        "# Compile the model with binary mean_squerd_error and Adam optimizer\n",
        "model.compile(loss='mean_squared_error',optimizer='adam')"
      ],
      "metadata": {
        "id": "qpXVCP5HBZpU"
      },
      "execution_count": 28,
      "outputs": []
    },
    {
      "cell_type": "code",
      "source": [
        "X_train, X_test, y_train, y_test = train_test_split(predictors, target, test_size=0.3, random_state=0)"
      ],
      "metadata": {
        "id": "w-Oxyy7_GPT9"
      },
      "execution_count": 29,
      "outputs": []
    },
    {
      "cell_type": "code",
      "source": [
        "model.fit(X_train, y_train, epochs=50)"
      ],
      "metadata": {
        "colab": {
          "base_uri": "https://localhost:8080/"
        },
        "id": "A7x8j2lsUxfu",
        "outputId": "13ddc042-7c03-4c08-96a6-cd15a275687c"
      },
      "execution_count": 30,
      "outputs": [
        {
          "output_type": "stream",
          "name": "stdout",
          "text": [
            "Epoch 1/50\n",
            "23/23 [==============================] - 1s 2ms/step - loss: 58826.3906\n",
            "Epoch 2/50\n",
            "23/23 [==============================] - 0s 2ms/step - loss: 25240.5605\n",
            "Epoch 3/50\n",
            "23/23 [==============================] - 0s 2ms/step - loss: 12386.2510\n",
            "Epoch 4/50\n",
            "23/23 [==============================] - 0s 3ms/step - loss: 10230.1699\n",
            "Epoch 5/50\n",
            "23/23 [==============================] - 0s 2ms/step - loss: 9029.1162\n",
            "Epoch 6/50\n",
            "23/23 [==============================] - 0s 2ms/step - loss: 8075.7925\n",
            "Epoch 7/50\n",
            "23/23 [==============================] - 0s 2ms/step - loss: 7295.4600\n",
            "Epoch 8/50\n",
            "23/23 [==============================] - 0s 2ms/step - loss: 6591.3584\n",
            "Epoch 9/50\n",
            "23/23 [==============================] - 0s 2ms/step - loss: 5991.0005\n",
            "Epoch 10/50\n",
            "23/23 [==============================] - 0s 2ms/step - loss: 5475.8403\n",
            "Epoch 11/50\n",
            "23/23 [==============================] - 0s 2ms/step - loss: 5013.5679\n",
            "Epoch 12/50\n",
            "23/23 [==============================] - 0s 2ms/step - loss: 4617.1709\n",
            "Epoch 13/50\n",
            "23/23 [==============================] - 0s 2ms/step - loss: 4252.0122\n",
            "Epoch 14/50\n",
            "23/23 [==============================] - 0s 2ms/step - loss: 3964.0620\n",
            "Epoch 15/50\n",
            "23/23 [==============================] - 0s 2ms/step - loss: 3683.8252\n",
            "Epoch 16/50\n",
            "23/23 [==============================] - 0s 2ms/step - loss: 3447.2815\n",
            "Epoch 17/50\n",
            "23/23 [==============================] - 0s 2ms/step - loss: 3235.7747\n",
            "Epoch 18/50\n",
            "23/23 [==============================] - 0s 2ms/step - loss: 3045.5825\n",
            "Epoch 19/50\n",
            "23/23 [==============================] - 0s 2ms/step - loss: 2872.8579\n",
            "Epoch 20/50\n",
            "23/23 [==============================] - 0s 2ms/step - loss: 2713.7812\n",
            "Epoch 21/50\n",
            "23/23 [==============================] - 0s 2ms/step - loss: 2571.8359\n",
            "Epoch 22/50\n",
            "23/23 [==============================] - 0s 2ms/step - loss: 2442.9604\n",
            "Epoch 23/50\n",
            "23/23 [==============================] - 0s 2ms/step - loss: 2322.2046\n",
            "Epoch 24/50\n",
            "23/23 [==============================] - 0s 2ms/step - loss: 2210.2173\n",
            "Epoch 25/50\n",
            "23/23 [==============================] - 0s 2ms/step - loss: 2105.7349\n",
            "Epoch 26/50\n",
            "23/23 [==============================] - 0s 2ms/step - loss: 2015.6332\n",
            "Epoch 27/50\n",
            "23/23 [==============================] - 0s 2ms/step - loss: 1923.6478\n",
            "Epoch 28/50\n",
            "23/23 [==============================] - 0s 2ms/step - loss: 1838.4055\n",
            "Epoch 29/50\n",
            "23/23 [==============================] - 0s 2ms/step - loss: 1757.7290\n",
            "Epoch 30/50\n",
            "23/23 [==============================] - 0s 2ms/step - loss: 1679.5845\n",
            "Epoch 31/50\n",
            "23/23 [==============================] - 0s 2ms/step - loss: 1612.2068\n",
            "Epoch 32/50\n",
            "23/23 [==============================] - 0s 2ms/step - loss: 1534.8267\n",
            "Epoch 33/50\n",
            "23/23 [==============================] - 0s 2ms/step - loss: 1454.1887\n",
            "Epoch 34/50\n",
            "23/23 [==============================] - 0s 2ms/step - loss: 1370.4561\n",
            "Epoch 35/50\n",
            "23/23 [==============================] - 0s 2ms/step - loss: 1283.9983\n",
            "Epoch 36/50\n",
            "23/23 [==============================] - 0s 2ms/step - loss: 1159.1410\n",
            "Epoch 37/50\n",
            "23/23 [==============================] - 0s 2ms/step - loss: 1029.2422\n",
            "Epoch 38/50\n",
            "23/23 [==============================] - 0s 2ms/step - loss: 909.7124\n",
            "Epoch 39/50\n",
            "23/23 [==============================] - 0s 2ms/step - loss: 802.9810\n",
            "Epoch 40/50\n",
            "23/23 [==============================] - 0s 2ms/step - loss: 710.1396\n",
            "Epoch 41/50\n",
            "23/23 [==============================] - 0s 2ms/step - loss: 624.8468\n",
            "Epoch 42/50\n",
            "23/23 [==============================] - 0s 2ms/step - loss: 549.8986\n",
            "Epoch 43/50\n",
            "23/23 [==============================] - 0s 2ms/step - loss: 488.8839\n",
            "Epoch 44/50\n",
            "23/23 [==============================] - 0s 2ms/step - loss: 437.5005\n",
            "Epoch 45/50\n",
            "23/23 [==============================] - 0s 2ms/step - loss: 397.0904\n",
            "Epoch 46/50\n",
            "23/23 [==============================] - 0s 2ms/step - loss: 356.6530\n",
            "Epoch 47/50\n",
            "23/23 [==============================] - 0s 2ms/step - loss: 324.0272\n",
            "Epoch 48/50\n",
            "23/23 [==============================] - 0s 2ms/step - loss: 297.5150\n",
            "Epoch 49/50\n",
            "23/23 [==============================] - 0s 2ms/step - loss: 275.1054\n",
            "Epoch 50/50\n",
            "23/23 [==============================] - 0s 2ms/step - loss: 255.9950\n"
          ]
        },
        {
          "output_type": "execute_result",
          "data": {
            "text/plain": [
              "<keras.callbacks.History at 0x7f115ef9ef20>"
            ]
          },
          "metadata": {},
          "execution_count": 30
        }
      ]
    },
    {
      "cell_type": "code",
      "source": [
        "mse_list = []\n",
        "for i in range(50):\n",
        "    y_pred = model.predict(X_test)\n",
        "    mse = mean_squared_error(y_test, y_pred)\n",
        "    mse_list.append(mse)"
      ],
      "metadata": {
        "colab": {
          "base_uri": "https://localhost:8080/"
        },
        "id": "k7PKb8iRVFUM",
        "outputId": "0f8f0bd8-7cde-43dd-8c88-bb55e8553480"
      },
      "execution_count": 31,
      "outputs": [
        {
          "output_type": "stream",
          "name": "stdout",
          "text": [
            "10/10 [==============================] - 0s 2ms/step\n",
            "10/10 [==============================] - 0s 3ms/step\n",
            "10/10 [==============================] - 0s 2ms/step\n",
            "10/10 [==============================] - 0s 2ms/step\n",
            "10/10 [==============================] - 0s 2ms/step\n",
            "10/10 [==============================] - 0s 2ms/step\n",
            "10/10 [==============================] - 0s 2ms/step\n",
            "10/10 [==============================] - 0s 2ms/step\n",
            "10/10 [==============================] - 0s 3ms/step\n",
            "10/10 [==============================] - 0s 2ms/step\n",
            "10/10 [==============================] - 0s 2ms/step\n",
            "10/10 [==============================] - 0s 2ms/step\n",
            "10/10 [==============================] - 0s 2ms/step\n",
            "10/10 [==============================] - 0s 2ms/step\n",
            "10/10 [==============================] - 0s 2ms/step\n",
            "10/10 [==============================] - 0s 2ms/step\n",
            "10/10 [==============================] - 0s 2ms/step\n",
            "10/10 [==============================] - 0s 2ms/step\n",
            "10/10 [==============================] - 0s 2ms/step\n",
            "10/10 [==============================] - 0s 2ms/step\n",
            "10/10 [==============================] - 0s 2ms/step\n",
            "10/10 [==============================] - 0s 2ms/step\n",
            "10/10 [==============================] - 0s 2ms/step\n",
            "10/10 [==============================] - 0s 2ms/step\n",
            "10/10 [==============================] - 0s 2ms/step\n",
            "10/10 [==============================] - 0s 2ms/step\n",
            "10/10 [==============================] - 0s 2ms/step\n",
            "10/10 [==============================] - 0s 2ms/step\n",
            "10/10 [==============================] - 0s 2ms/step\n",
            "10/10 [==============================] - 0s 2ms/step\n",
            "10/10 [==============================] - 0s 2ms/step\n",
            "10/10 [==============================] - 0s 2ms/step\n",
            "10/10 [==============================] - 0s 2ms/step\n",
            "10/10 [==============================] - 0s 2ms/step\n",
            "10/10 [==============================] - 0s 2ms/step\n",
            "10/10 [==============================] - 0s 2ms/step\n",
            "10/10 [==============================] - 0s 2ms/step\n",
            "10/10 [==============================] - 0s 2ms/step\n",
            "10/10 [==============================] - 0s 2ms/step\n",
            "10/10 [==============================] - 0s 2ms/step\n",
            "10/10 [==============================] - 0s 2ms/step\n",
            "10/10 [==============================] - 0s 2ms/step\n",
            "10/10 [==============================] - 0s 2ms/step\n",
            "10/10 [==============================] - 0s 2ms/step\n",
            "10/10 [==============================] - 0s 2ms/step\n",
            "10/10 [==============================] - 0s 2ms/step\n",
            "10/10 [==============================] - 0s 2ms/step\n",
            "10/10 [==============================] - 0s 2ms/step\n",
            "10/10 [==============================] - 0s 2ms/step\n",
            "10/10 [==============================] - 0s 2ms/step\n"
          ]
        }
      ]
    },
    {
      "cell_type": "code",
      "source": [
        "# Report the mean and standard deviation of the mean squared errors\n",
        "print(np.mean(mse_list))\n",
        "print(np.std(mse_list))"
      ],
      "metadata": {
        "colab": {
          "base_uri": "https://localhost:8080/"
        },
        "id": "73nZYoBDVmX4",
        "outputId": "2a571837-d5cb-4089-eccb-cdb237c127ea"
      },
      "execution_count": 32,
      "outputs": [
        {
          "output_type": "stream",
          "name": "stdout",
          "text": [
            "205.55816070239757\n",
            "0.0\n"
          ]
        }
      ]
    }
  ]
}